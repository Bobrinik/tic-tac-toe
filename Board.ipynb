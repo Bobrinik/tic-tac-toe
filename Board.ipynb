{
 "cells": [
  {
   "cell_type": "code",
   "execution_count": 137,
   "metadata": {},
   "outputs": [
    {
     "data": {
      "text/plain": [
       ":x-win"
      ]
     },
     "execution_count": 137,
     "metadata": {},
     "output_type": "execute_result"
    }
   ],
   "source": [
    "(def board {   [0 0] nil,\n",
    "               [0 1] nil,\n",
    "               [0 2] nil,\n",
    "               [1 0] nil,\n",
    "               [1 1] nil,\n",
    "               [1 2] nil,\n",
    "               [2 0] nil,\n",
    "               [2 1] nil,\n",
    "               [2 2] nil\n",
    "               })\n",
    "\n",
    "(defn get-count\n",
    "    [brd ids]\n",
    "    (let [x (apply + (map (fn [id] (if (= \"x\" (brd id)) 1 0)) ids))\n",
    "          o (apply + (map (fn [id] (if (= \"o\" (brd id)) 1 0)) ids))]\n",
    "        {:x x :o o}))\n",
    "\n",
    "(defn is-valid [n]\n",
    "    \"Checks if n is withing the bounds\"\n",
    "    (and (>= n 0) (< n 3)))\n",
    "\n",
    "\n",
    "(defn get-rows-and-columns\n",
    "    \"It returns triplets of coordinates to check\"\n",
    "    []\n",
    "    (let [ x (for [row [0 1 2]]\n",
    "                 [(for [x [row] y [0 1 2]] [x y])])\n",
    "           y (for [column [0 1 2]]\n",
    "                 [(for [x [0 1 2] y [column]] [x y])])]\n",
    "        (concat x y)))\n",
    "\n",
    "(defn get-all-coords []\n",
    "    \"Returns all of the coordinates for the board\"\n",
    "    (for [x (range 0 3) y (range 0 3)] \n",
    "      [x y]))\n",
    "\n",
    "(defn get-main-diag []\n",
    "    \"Sum on the main diagonal equals to 2\"\n",
    "    [(filter (fn [[x y]] (= 2 (+ x y))) (get-all-coords))])\n",
    "\n",
    "(defn get-secondary-diag []\n",
    "    \"Different on the secondary diagonal equals to 0\"\n",
    "    [(filter (fn [[x y]] (= 0 (- x y))) (get-all-coords))])\n",
    "\n",
    "\n",
    "(defn put-val \n",
    "    \"Puts a value into a board\"\n",
    "    [board i j e]\n",
    "    (if (and (is-valid i) (is-valid j) (not (board [i j])))\n",
    "        (assoc board [i j] e)\n",
    "        (throw (Exception. \"Invalid Move\"))))\n",
    "\n",
    "(defn get-game-status\n",
    "    \"Returns one of [:x-winner|:o-winner|:draw|:in-progress]\"\n",
    "    [board]\n",
    "    (let [coords (conj (get-rows-and-columns) (get-main-diag) (get-secondary-diag)) \n",
    "          stats  (map (fn [[ids]] (get-count board ids)) coords)\n",
    "          x-win  (some #(= 3 (:x %)) stats)\n",
    "          o-win  (some #(= 3 (:o %)) stats)]\n",
    "          (cond\n",
    "              (and x-win (not o-win)) :x-win\n",
    "              (and (not x-win) o-win) :o-win\n",
    "              (and x-win o-win) :draw\n",
    "              :else :in-progress)))\n",
    "\n",
    "(def brd-x-win (put-val (put-val (put-val board 0 0 \"x\") 0 1 \"x\") 0 2 \"x\"))\n",
    "\n",
    "(get-game-status brd-x-win)"
   ]
  },
  {
   "cell_type": "code",
   "execution_count": 25,
   "metadata": {},
   "outputs": [
    {
     "data": {
      "text/plain": [
       "(([0 0] [1 1] [2 2]) ([0 2] [1 1] [2 0]) [([0 0] [1 0] [2 0])] [([0 1] [1 1] [2 1])] [([0 2] [1 2] [2 2])] [([0 0] [1 0] [2 0])] [([0 1] [1 1] [2 1])] [([0 2] [1 2] [2 2])])"
      ]
     },
     "execution_count": 25,
     "metadata": {},
     "output_type": "execute_result"
    }
   ],
   "source": [
    "\n",
    "    \n",
    "(def board-2 (put-val board 0 1 \"x\"))\n"
   ]
  },
  {
   "cell_type": "code",
   "execution_count": null,
   "metadata": {},
   "outputs": [],
   "source": []
  }
 ],
 "metadata": {
  "kernelspec": {
   "display_name": "Clojure (clojupyter-v0.2.2)",
   "language": "clojure",
   "name": "clojupyter"
  },
  "language_info": {
   "file_extension": ".clj",
   "mimetype": "text/x-clojure",
   "name": "clojure",
   "version": "1.10.0"
  }
 },
 "nbformat": 4,
 "nbformat_minor": 2
}
